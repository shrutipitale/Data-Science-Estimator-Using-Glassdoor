{
  "cells": [
    {
      "cell_type": "code",
      "execution_count": 1,
      "id": "f6538174",
      "metadata": {
        "id": "f6538174"
      },
      "outputs": [],
      "source": [
        "import pandas as pd\n",
        "import matplotlib.pyplot as plt\n",
        "import numpy as np\n",
        "import seaborn as sns"
      ]
    },
    {
      "cell_type": "code",
      "execution_count": 2,
      "id": "ffeeb5b6",
      "metadata": {
        "id": "ffeeb5b6"
      },
      "outputs": [],
      "source": [
        "df = pd.read_excel('cleaned_salary_data.xlsx')"
      ]
    },
    {
      "cell_type": "code",
      "execution_count": 3,
      "id": "cd2fed7e",
      "metadata": {
        "colab": {
          "base_uri": "https://localhost:8080/",
          "height": 533
        },
        "id": "cd2fed7e",
        "outputId": "e9e64ea9-6bae-4a66-e425-2884913c2cb9"
      },
      "outputs": [
        {
          "data": {
            "text/html": [
              "<div>\n",
              "<style scoped>\n",
              "    .dataframe tbody tr th:only-of-type {\n",
              "        vertical-align: middle;\n",
              "    }\n",
              "\n",
              "    .dataframe tbody tr th {\n",
              "        vertical-align: top;\n",
              "    }\n",
              "\n",
              "    .dataframe thead th {\n",
              "        text-align: right;\n",
              "    }\n",
              "</style>\n",
              "<table border=\"1\" class=\"dataframe\">\n",
              "  <thead>\n",
              "    <tr style=\"text-align: right;\">\n",
              "      <th></th>\n",
              "      <th>Job Title</th>\n",
              "      <th>Salary Estimate</th>\n",
              "      <th>Job Description</th>\n",
              "      <th>Rating</th>\n",
              "      <th>Company Name</th>\n",
              "      <th>Location</th>\n",
              "      <th>Headquarters</th>\n",
              "      <th>Size</th>\n",
              "      <th>Founded</th>\n",
              "      <th>Type of ownership</th>\n",
              "      <th>...</th>\n",
              "      <th>min_salary</th>\n",
              "      <th>max_salary</th>\n",
              "      <th>avg_salary</th>\n",
              "      <th>job_state</th>\n",
              "      <th>same_location</th>\n",
              "      <th>age</th>\n",
              "      <th>Job_simp</th>\n",
              "      <th>seniority</th>\n",
              "      <th>num_comp</th>\n",
              "      <th>desc_len</th>\n",
              "    </tr>\n",
              "  </thead>\n",
              "  <tbody>\n",
              "    <tr>\n",
              "      <th>0</th>\n",
              "      <td>Data Scientist</td>\n",
              "      <td>53-91</td>\n",
              "      <td>Data Scientist\\nLocation: Albuquerque, NM\\nEdu...</td>\n",
              "      <td>3.8</td>\n",
              "      <td>['Tecolote Research', '3.8']</td>\n",
              "      <td>Albuquerque, NM</td>\n",
              "      <td>Goleta, CA</td>\n",
              "      <td>501 to 1000 employees</td>\n",
              "      <td>1973</td>\n",
              "      <td>Company - Private</td>\n",
              "      <td>...</td>\n",
              "      <td>53</td>\n",
              "      <td>91</td>\n",
              "      <td>72.0</td>\n",
              "      <td>NM</td>\n",
              "      <td>0</td>\n",
              "      <td>49</td>\n",
              "      <td>data scientist</td>\n",
              "      <td>na</td>\n",
              "      <td>1</td>\n",
              "      <td>2536</td>\n",
              "    </tr>\n",
              "    <tr>\n",
              "      <th>1</th>\n",
              "      <td>Healthcare Data Scientist</td>\n",
              "      <td>63-112</td>\n",
              "      <td>What You Will Do:\\n\\nI. General Summary\\n\\nThe...</td>\n",
              "      <td>3.4</td>\n",
              "      <td>['University of Maryland Medical System', '3.4']</td>\n",
              "      <td>Linthicum, MD</td>\n",
              "      <td>Baltimore, MD</td>\n",
              "      <td>10000+ employees</td>\n",
              "      <td>1984</td>\n",
              "      <td>Other Organization</td>\n",
              "      <td>...</td>\n",
              "      <td>63</td>\n",
              "      <td>112</td>\n",
              "      <td>87.5</td>\n",
              "      <td>MD</td>\n",
              "      <td>0</td>\n",
              "      <td>38</td>\n",
              "      <td>data scientist</td>\n",
              "      <td>na</td>\n",
              "      <td>1</td>\n",
              "      <td>4783</td>\n",
              "    </tr>\n",
              "    <tr>\n",
              "      <th>2</th>\n",
              "      <td>Data Scientist</td>\n",
              "      <td>80-90</td>\n",
              "      <td>KnowBe4, Inc. is a high growth information sec...</td>\n",
              "      <td>4.8</td>\n",
              "      <td>['KnowBe4', '4.8']</td>\n",
              "      <td>Clearwater, FL</td>\n",
              "      <td>Clearwater, FL</td>\n",
              "      <td>501 to 1000 employees</td>\n",
              "      <td>2010</td>\n",
              "      <td>Company - Private</td>\n",
              "      <td>...</td>\n",
              "      <td>80</td>\n",
              "      <td>90</td>\n",
              "      <td>85.0</td>\n",
              "      <td>FL</td>\n",
              "      <td>1</td>\n",
              "      <td>12</td>\n",
              "      <td>data scientist</td>\n",
              "      <td>na</td>\n",
              "      <td>1</td>\n",
              "      <td>3461</td>\n",
              "    </tr>\n",
              "    <tr>\n",
              "      <th>3</th>\n",
              "      <td>Data Scientist</td>\n",
              "      <td>56-97</td>\n",
              "      <td>*Organization and Job ID**\\nJob ID: 310709\\n\\n...</td>\n",
              "      <td>3.8</td>\n",
              "      <td>['PNNL', '3.8']</td>\n",
              "      <td>Richland, WA</td>\n",
              "      <td>Richland, WA</td>\n",
              "      <td>1001 to 5000 employees</td>\n",
              "      <td>1965</td>\n",
              "      <td>Government</td>\n",
              "      <td>...</td>\n",
              "      <td>56</td>\n",
              "      <td>97</td>\n",
              "      <td>76.5</td>\n",
              "      <td>WA</td>\n",
              "      <td>1</td>\n",
              "      <td>57</td>\n",
              "      <td>data scientist</td>\n",
              "      <td>na</td>\n",
              "      <td>1</td>\n",
              "      <td>3883</td>\n",
              "    </tr>\n",
              "    <tr>\n",
              "      <th>4</th>\n",
              "      <td>Data Scientist</td>\n",
              "      <td>86-143</td>\n",
              "      <td>Data Scientist\\nAffinity Solutions / Marketing...</td>\n",
              "      <td>2.9</td>\n",
              "      <td>['Affinity Solutions', '2.9']</td>\n",
              "      <td>New York, NY</td>\n",
              "      <td>New York, NY</td>\n",
              "      <td>51 to 200 employees</td>\n",
              "      <td>1998</td>\n",
              "      <td>Company - Private</td>\n",
              "      <td>...</td>\n",
              "      <td>86</td>\n",
              "      <td>143</td>\n",
              "      <td>114.5</td>\n",
              "      <td>NY</td>\n",
              "      <td>1</td>\n",
              "      <td>24</td>\n",
              "      <td>data scientist</td>\n",
              "      <td>na</td>\n",
              "      <td>1</td>\n",
              "      <td>2728</td>\n",
              "    </tr>\n",
              "  </tbody>\n",
              "</table>\n",
              "<p>5 rows × 26 columns</p>\n",
              "</div>"
            ],
            "text/plain": [
              "                   Job Title Salary Estimate  \\\n",
              "0             Data Scientist          53-91    \n",
              "1  Healthcare Data Scientist         63-112    \n",
              "2             Data Scientist          80-90    \n",
              "3             Data Scientist          56-97    \n",
              "4             Data Scientist         86-143    \n",
              "\n",
              "                                     Job Description  Rating  \\\n",
              "0  Data Scientist\\nLocation: Albuquerque, NM\\nEdu...     3.8   \n",
              "1  What You Will Do:\\n\\nI. General Summary\\n\\nThe...     3.4   \n",
              "2  KnowBe4, Inc. is a high growth information sec...     4.8   \n",
              "3  *Organization and Job ID**\\nJob ID: 310709\\n\\n...     3.8   \n",
              "4  Data Scientist\\nAffinity Solutions / Marketing...     2.9   \n",
              "\n",
              "                                       Company Name         Location  \\\n",
              "0                      ['Tecolote Research', '3.8']  Albuquerque, NM   \n",
              "1  ['University of Maryland Medical System', '3.4']    Linthicum, MD   \n",
              "2                                ['KnowBe4', '4.8']   Clearwater, FL   \n",
              "3                                   ['PNNL', '3.8']     Richland, WA   \n",
              "4                     ['Affinity Solutions', '2.9']     New York, NY   \n",
              "\n",
              "     Headquarters                    Size  Founded   Type of ownership  ...  \\\n",
              "0      Goleta, CA   501 to 1000 employees     1973   Company - Private  ...   \n",
              "1   Baltimore, MD        10000+ employees     1984  Other Organization  ...   \n",
              "2  Clearwater, FL   501 to 1000 employees     2010   Company - Private  ...   \n",
              "3    Richland, WA  1001 to 5000 employees     1965          Government  ...   \n",
              "4    New York, NY     51 to 200 employees     1998   Company - Private  ...   \n",
              "\n",
              "  min_salary max_salary avg_salary job_state  same_location  age  \\\n",
              "0         53         91       72.0        NM              0   49   \n",
              "1         63        112       87.5        MD              0   38   \n",
              "2         80         90       85.0        FL              1   12   \n",
              "3         56         97       76.5        WA              1   57   \n",
              "4         86        143      114.5        NY              1   24   \n",
              "\n",
              "         Job_simp  seniority  num_comp desc_len  \n",
              "0  data scientist         na         1     2536  \n",
              "1  data scientist         na         1     4783  \n",
              "2  data scientist         na         1     3461  \n",
              "3  data scientist         na         1     3883  \n",
              "4  data scientist         na         1     2728  \n",
              "\n",
              "[5 rows x 26 columns]"
            ]
          },
          "execution_count": 3,
          "metadata": {},
          "output_type": "execute_result"
        }
      ],
      "source": [
        "df.head()"
      ]
    },
    {
      "cell_type": "code",
      "execution_count": 4,
      "id": "46d9aae3",
      "metadata": {
        "colab": {
          "base_uri": "https://localhost:8080/"
        },
        "id": "46d9aae3",
        "outputId": "dcae2100-8208-4a04-f76a-7ba5b8760ff7"
      },
      "outputs": [
        {
          "name": "stdout",
          "output_type": "stream",
          "text": [
            "<class 'pandas.core.frame.DataFrame'>\n",
            "RangeIndex: 742 entries, 0 to 741\n",
            "Data columns (total 26 columns):\n",
            " #   Column             Non-Null Count  Dtype  \n",
            "---  ------             --------------  -----  \n",
            " 0   Job Title          742 non-null    object \n",
            " 1   Salary Estimate    742 non-null    object \n",
            " 2   Job Description    742 non-null    object \n",
            " 3   Rating             742 non-null    float64\n",
            " 4   Company Name       742 non-null    object \n",
            " 5   Location           742 non-null    object \n",
            " 6   Headquarters       742 non-null    object \n",
            " 7   Size               742 non-null    object \n",
            " 8   Founded            742 non-null    int64  \n",
            " 9   Type of ownership  742 non-null    object \n",
            " 10  Industry           742 non-null    object \n",
            " 11  Sector             742 non-null    object \n",
            " 12  Revenue            742 non-null    object \n",
            " 13  Competitors        742 non-null    object \n",
            " 14  hourly             742 non-null    int64  \n",
            " 15  employee_provided  742 non-null    int64  \n",
            " 16  min_salary         742 non-null    int64  \n",
            " 17  max_salary         742 non-null    int64  \n",
            " 18  avg_salary         742 non-null    float64\n",
            " 19  job_state          742 non-null    object \n",
            " 20  same_location      742 non-null    int64  \n",
            " 21  age                742 non-null    int64  \n",
            " 22  Job_simp           742 non-null    object \n",
            " 23  seniority          742 non-null    object \n",
            " 24  num_comp           742 non-null    int64  \n",
            " 25  desc_len           742 non-null    int64  \n",
            "dtypes: float64(2), int64(9), object(15)\n",
            "memory usage: 150.8+ KB\n"
          ]
        }
      ],
      "source": [
        "df.info()"
      ]
    },
    {
      "cell_type": "code",
      "execution_count": 5,
      "id": "d135f806",
      "metadata": {
        "colab": {
          "base_uri": "https://localhost:8080/"
        },
        "id": "d135f806",
        "outputId": "974cb832-552e-492c-b79f-24da71a31470"
      },
      "outputs": [
        {
          "data": {
            "text/plain": [
              "array(['na', 'senior'], dtype=object)"
            ]
          },
          "execution_count": 5,
          "metadata": {},
          "output_type": "execute_result"
        }
      ],
      "source": [
        "df['seniority'].unique()"
      ]
    },
    {
      "cell_type": "code",
      "execution_count": 6,
      "id": "qU_f0xkfcAju",
      "metadata": {
        "id": "qU_f0xkfcAju"
      },
      "outputs": [],
      "source": [
        "df_model = df[['avg_salary','Size','Type of ownership',\n",
        "               'seniority','age','Job_simp']]"
      ]
    },
    {
      "cell_type": "code",
      "execution_count": 7,
      "id": "2e49d6a4",
      "metadata": {
        "colab": {
          "base_uri": "https://localhost:8080/"
        },
        "id": "2e49d6a4",
        "outputId": "49efe156-2aa9-48ec-92e4-a14697f7c207"
      },
      "outputs": [
        {
          "name": "stdout",
          "output_type": "stream",
          "text": [
            "<class 'pandas.core.frame.DataFrame'>\n",
            "RangeIndex: 742 entries, 0 to 741\n",
            "Data columns (total 6 columns):\n",
            " #   Column             Non-Null Count  Dtype  \n",
            "---  ------             --------------  -----  \n",
            " 0   avg_salary         742 non-null    float64\n",
            " 1   Size               742 non-null    object \n",
            " 2   Type of ownership  742 non-null    object \n",
            " 3   seniority          742 non-null    object \n",
            " 4   age                742 non-null    int64  \n",
            " 5   Job_simp           742 non-null    object \n",
            "dtypes: float64(1), int64(1), object(4)\n",
            "memory usage: 34.9+ KB\n"
          ]
        }
      ],
      "source": [
        "df_model.info()"
      ]
    },
    {
      "cell_type": "code",
      "execution_count": 8,
      "id": "73681d49",
      "metadata": {
        "colab": {
          "base_uri": "https://localhost:8080/",
          "height": 206
        },
        "id": "73681d49",
        "outputId": "b69689e4-c9de-4e8e-99d2-a25a6b07c22e"
      },
      "outputs": [
        {
          "data": {
            "text/html": [
              "<div>\n",
              "<style scoped>\n",
              "    .dataframe tbody tr th:only-of-type {\n",
              "        vertical-align: middle;\n",
              "    }\n",
              "\n",
              "    .dataframe tbody tr th {\n",
              "        vertical-align: top;\n",
              "    }\n",
              "\n",
              "    .dataframe thead th {\n",
              "        text-align: right;\n",
              "    }\n",
              "</style>\n",
              "<table border=\"1\" class=\"dataframe\">\n",
              "  <thead>\n",
              "    <tr style=\"text-align: right;\">\n",
              "      <th></th>\n",
              "      <th>avg_salary</th>\n",
              "      <th>Size</th>\n",
              "      <th>Type of ownership</th>\n",
              "      <th>seniority</th>\n",
              "      <th>age</th>\n",
              "      <th>Job_simp</th>\n",
              "    </tr>\n",
              "  </thead>\n",
              "  <tbody>\n",
              "    <tr>\n",
              "      <th>0</th>\n",
              "      <td>72.0</td>\n",
              "      <td>501 to 1000 employees</td>\n",
              "      <td>Company - Private</td>\n",
              "      <td>na</td>\n",
              "      <td>49</td>\n",
              "      <td>data scientist</td>\n",
              "    </tr>\n",
              "    <tr>\n",
              "      <th>1</th>\n",
              "      <td>87.5</td>\n",
              "      <td>10000+ employees</td>\n",
              "      <td>Other Organization</td>\n",
              "      <td>na</td>\n",
              "      <td>38</td>\n",
              "      <td>data scientist</td>\n",
              "    </tr>\n",
              "    <tr>\n",
              "      <th>2</th>\n",
              "      <td>85.0</td>\n",
              "      <td>501 to 1000 employees</td>\n",
              "      <td>Company - Private</td>\n",
              "      <td>na</td>\n",
              "      <td>12</td>\n",
              "      <td>data scientist</td>\n",
              "    </tr>\n",
              "    <tr>\n",
              "      <th>3</th>\n",
              "      <td>76.5</td>\n",
              "      <td>1001 to 5000 employees</td>\n",
              "      <td>Government</td>\n",
              "      <td>na</td>\n",
              "      <td>57</td>\n",
              "      <td>data scientist</td>\n",
              "    </tr>\n",
              "    <tr>\n",
              "      <th>4</th>\n",
              "      <td>114.5</td>\n",
              "      <td>51 to 200 employees</td>\n",
              "      <td>Company - Private</td>\n",
              "      <td>na</td>\n",
              "      <td>24</td>\n",
              "      <td>data scientist</td>\n",
              "    </tr>\n",
              "  </tbody>\n",
              "</table>\n",
              "</div>"
            ],
            "text/plain": [
              "   avg_salary                    Size   Type of ownership seniority  age  \\\n",
              "0        72.0   501 to 1000 employees   Company - Private        na   49   \n",
              "1        87.5        10000+ employees  Other Organization        na   38   \n",
              "2        85.0   501 to 1000 employees   Company - Private        na   12   \n",
              "3        76.5  1001 to 5000 employees          Government        na   57   \n",
              "4       114.5     51 to 200 employees   Company - Private        na   24   \n",
              "\n",
              "         Job_simp  \n",
              "0  data scientist  \n",
              "1  data scientist  \n",
              "2  data scientist  \n",
              "3  data scientist  \n",
              "4  data scientist  "
            ]
          },
          "execution_count": 8,
          "metadata": {},
          "output_type": "execute_result"
        }
      ],
      "source": [
        "df_model.head()"
      ]
    },
    {
      "cell_type": "code",
      "execution_count": 9,
      "id": "1f50cca3",
      "metadata": {
        "colab": {
          "base_uri": "https://localhost:8080/"
        },
        "id": "1f50cca3",
        "outputId": "430387be-39c7-4555-9ee4-1543d85006d5"
      },
      "outputs": [
        {
          "data": {
            "text/plain": [
              "array(['501 to 1000 employees', '10000+ employees',\n",
              "       '1001 to 5000 employees', '51 to 200 employees',\n",
              "       '201 to 500 employees', '5001 to 10000 employees',\n",
              "       '1 to 50 employees', 'Unknown', '-1'], dtype=object)"
            ]
          },
          "execution_count": 9,
          "metadata": {},
          "output_type": "execute_result"
        }
      ],
      "source": [
        "df_model['Size'].unique()"
      ]
    },
    {
      "cell_type": "code",
      "execution_count": 10,
      "id": "5xrQQ7gQcAjy",
      "metadata": {
        "colab": {
          "base_uri": "https://localhost:8080/"
        },
        "id": "5xrQQ7gQcAjy",
        "outputId": "0a6bfd36-e00a-4e35-896c-993d30c17a5c"
      },
      "outputs": [
        {
          "data": {
            "text/plain": [
              "array(['Company - Private', 'Other Organization', 'Government',\n",
              "       'Company - Public', 'Hospital', 'Subsidiary or Business Segment',\n",
              "       'Nonprofit Organization', 'Unknown', 'College / University',\n",
              "       'School / School District', '-1'], dtype=object)"
            ]
          },
          "execution_count": 10,
          "metadata": {},
          "output_type": "execute_result"
        }
      ],
      "source": [
        "df_model['Type of ownership'].unique()"
      ]
    },
    {
      "cell_type": "code",
      "execution_count": 11,
      "id": "40dbf93c",
      "metadata": {
        "colab": {
          "base_uri": "https://localhost:8080/"
        },
        "id": "40dbf93c",
        "outputId": "8a906d29-1fc2-43c1-e6b5-5a7f0c3be424"
      },
      "outputs": [
        {
          "data": {
            "text/plain": [
              "array(['data scientist', 'na', 'analyst', 'data engineer', 'director',\n",
              "       'manager', 'mle'], dtype=object)"
            ]
          },
          "execution_count": 11,
          "metadata": {},
          "output_type": "execute_result"
        }
      ],
      "source": [
        "df_model['Job_simp'].unique()"
      ]
    },
    {
      "cell_type": "code",
      "execution_count": 12,
      "id": "3e7dbfcf",
      "metadata": {
        "colab": {
          "base_uri": "https://localhost:8080/"
        },
        "id": "3e7dbfcf",
        "outputId": "079ad7ac-a0ef-45d5-f753-d08c56977d55"
      },
      "outputs": [
        {
          "data": {
            "text/plain": [
              "array(['na', 'senior'], dtype=object)"
            ]
          },
          "execution_count": 12,
          "metadata": {},
          "output_type": "execute_result"
        }
      ],
      "source": [
        "df_model['seniority'].unique()"
      ]
    },
    {
      "cell_type": "code",
      "execution_count": 13,
      "id": "da76046a",
      "metadata": {
        "colab": {
          "base_uri": "https://localhost:8080/"
        },
        "id": "da76046a",
        "outputId": "f7480d62-43e9-4def-af05-3ab645828973"
      },
      "outputs": [
        {
          "data": {
            "text/plain": [
              "array([ 49,  38,  12,  57,  24,  22,  14,  17,   8,  13,  11,  54,  60,\n",
              "        10, 241,  27, 107,   9,  87, 173,  70, 170,  25,  26,  48,  53,\n",
              "       152,  37,  -1,   7,  29,  64,  36,  23,  97, 110,  20, 159,  83,\n",
              "         6, 137,  16,  74,  19,  95,  44, 162,   5,  80,  32,  34,  21,\n",
              "        15,  30,  28,  45,   3,  40,  85, 144,  56,  51,  79,  35,  77,\n",
              "       176, 171,  46,  41,  52,  71,  55,  61,  58,  92, 105, 139, 135,\n",
              "        18, 172, 120, 278,  93,  75,  31,  33,  94, 147, 109,  50, 166,\n",
              "        39, 100, 210, 108,  42,  68, 192,  47, 123,  43, 133])"
            ]
          },
          "execution_count": 13,
          "metadata": {},
          "output_type": "execute_result"
        }
      ],
      "source": [
        "df_model['age'].unique()"
      ]
    },
    {
      "cell_type": "code",
      "execution_count": 14,
      "id": "2a9c1e10",
      "metadata": {
        "id": "2a9c1e10"
      },
      "outputs": [],
      "source": [
        "df_dum = pd.get_dummies(df_model)"
      ]
    },
    {
      "cell_type": "code",
      "execution_count": 15,
      "id": "b2f5ee0f",
      "metadata": {
        "colab": {
          "base_uri": "https://localhost:8080/",
          "height": 290
        },
        "id": "b2f5ee0f",
        "outputId": "3b6d55b6-cc63-45f4-ad18-f0a31ee1d8fe"
      },
      "outputs": [
        {
          "data": {
            "text/html": [
              "<div>\n",
              "<style scoped>\n",
              "    .dataframe tbody tr th:only-of-type {\n",
              "        vertical-align: middle;\n",
              "    }\n",
              "\n",
              "    .dataframe tbody tr th {\n",
              "        vertical-align: top;\n",
              "    }\n",
              "\n",
              "    .dataframe thead th {\n",
              "        text-align: right;\n",
              "    }\n",
              "</style>\n",
              "<table border=\"1\" class=\"dataframe\">\n",
              "  <thead>\n",
              "    <tr style=\"text-align: right;\">\n",
              "      <th></th>\n",
              "      <th>avg_salary</th>\n",
              "      <th>age</th>\n",
              "      <th>Size_-1</th>\n",
              "      <th>Size_1 to 50 employees</th>\n",
              "      <th>Size_10000+ employees</th>\n",
              "      <th>Size_1001 to 5000 employees</th>\n",
              "      <th>Size_201 to 500 employees</th>\n",
              "      <th>Size_5001 to 10000 employees</th>\n",
              "      <th>Size_501 to 1000 employees</th>\n",
              "      <th>Size_51 to 200 employees</th>\n",
              "      <th>...</th>\n",
              "      <th>Type of ownership_Unknown</th>\n",
              "      <th>seniority_na</th>\n",
              "      <th>seniority_senior</th>\n",
              "      <th>Job_simp_analyst</th>\n",
              "      <th>Job_simp_data engineer</th>\n",
              "      <th>Job_simp_data scientist</th>\n",
              "      <th>Job_simp_director</th>\n",
              "      <th>Job_simp_manager</th>\n",
              "      <th>Job_simp_mle</th>\n",
              "      <th>Job_simp_na</th>\n",
              "    </tr>\n",
              "  </thead>\n",
              "  <tbody>\n",
              "    <tr>\n",
              "      <th>0</th>\n",
              "      <td>72.0</td>\n",
              "      <td>49</td>\n",
              "      <td>False</td>\n",
              "      <td>False</td>\n",
              "      <td>False</td>\n",
              "      <td>False</td>\n",
              "      <td>False</td>\n",
              "      <td>False</td>\n",
              "      <td>True</td>\n",
              "      <td>False</td>\n",
              "      <td>...</td>\n",
              "      <td>False</td>\n",
              "      <td>True</td>\n",
              "      <td>False</td>\n",
              "      <td>False</td>\n",
              "      <td>False</td>\n",
              "      <td>True</td>\n",
              "      <td>False</td>\n",
              "      <td>False</td>\n",
              "      <td>False</td>\n",
              "      <td>False</td>\n",
              "    </tr>\n",
              "    <tr>\n",
              "      <th>1</th>\n",
              "      <td>87.5</td>\n",
              "      <td>38</td>\n",
              "      <td>False</td>\n",
              "      <td>False</td>\n",
              "      <td>True</td>\n",
              "      <td>False</td>\n",
              "      <td>False</td>\n",
              "      <td>False</td>\n",
              "      <td>False</td>\n",
              "      <td>False</td>\n",
              "      <td>...</td>\n",
              "      <td>False</td>\n",
              "      <td>True</td>\n",
              "      <td>False</td>\n",
              "      <td>False</td>\n",
              "      <td>False</td>\n",
              "      <td>True</td>\n",
              "      <td>False</td>\n",
              "      <td>False</td>\n",
              "      <td>False</td>\n",
              "      <td>False</td>\n",
              "    </tr>\n",
              "    <tr>\n",
              "      <th>2</th>\n",
              "      <td>85.0</td>\n",
              "      <td>12</td>\n",
              "      <td>False</td>\n",
              "      <td>False</td>\n",
              "      <td>False</td>\n",
              "      <td>False</td>\n",
              "      <td>False</td>\n",
              "      <td>False</td>\n",
              "      <td>True</td>\n",
              "      <td>False</td>\n",
              "      <td>...</td>\n",
              "      <td>False</td>\n",
              "      <td>True</td>\n",
              "      <td>False</td>\n",
              "      <td>False</td>\n",
              "      <td>False</td>\n",
              "      <td>True</td>\n",
              "      <td>False</td>\n",
              "      <td>False</td>\n",
              "      <td>False</td>\n",
              "      <td>False</td>\n",
              "    </tr>\n",
              "    <tr>\n",
              "      <th>3</th>\n",
              "      <td>76.5</td>\n",
              "      <td>57</td>\n",
              "      <td>False</td>\n",
              "      <td>False</td>\n",
              "      <td>False</td>\n",
              "      <td>True</td>\n",
              "      <td>False</td>\n",
              "      <td>False</td>\n",
              "      <td>False</td>\n",
              "      <td>False</td>\n",
              "      <td>...</td>\n",
              "      <td>False</td>\n",
              "      <td>True</td>\n",
              "      <td>False</td>\n",
              "      <td>False</td>\n",
              "      <td>False</td>\n",
              "      <td>True</td>\n",
              "      <td>False</td>\n",
              "      <td>False</td>\n",
              "      <td>False</td>\n",
              "      <td>False</td>\n",
              "    </tr>\n",
              "    <tr>\n",
              "      <th>4</th>\n",
              "      <td>114.5</td>\n",
              "      <td>24</td>\n",
              "      <td>False</td>\n",
              "      <td>False</td>\n",
              "      <td>False</td>\n",
              "      <td>False</td>\n",
              "      <td>False</td>\n",
              "      <td>False</td>\n",
              "      <td>False</td>\n",
              "      <td>True</td>\n",
              "      <td>...</td>\n",
              "      <td>False</td>\n",
              "      <td>True</td>\n",
              "      <td>False</td>\n",
              "      <td>False</td>\n",
              "      <td>False</td>\n",
              "      <td>True</td>\n",
              "      <td>False</td>\n",
              "      <td>False</td>\n",
              "      <td>False</td>\n",
              "      <td>False</td>\n",
              "    </tr>\n",
              "  </tbody>\n",
              "</table>\n",
              "<p>5 rows × 31 columns</p>\n",
              "</div>"
            ],
            "text/plain": [
              "   avg_salary  age  Size_-1  Size_1 to 50 employees  Size_10000+ employees  \\\n",
              "0        72.0   49    False                   False                  False   \n",
              "1        87.5   38    False                   False                   True   \n",
              "2        85.0   12    False                   False                  False   \n",
              "3        76.5   57    False                   False                  False   \n",
              "4       114.5   24    False                   False                  False   \n",
              "\n",
              "   Size_1001 to 5000 employees  Size_201 to 500 employees  \\\n",
              "0                        False                      False   \n",
              "1                        False                      False   \n",
              "2                        False                      False   \n",
              "3                         True                      False   \n",
              "4                        False                      False   \n",
              "\n",
              "   Size_5001 to 10000 employees  Size_501 to 1000 employees  \\\n",
              "0                         False                        True   \n",
              "1                         False                       False   \n",
              "2                         False                        True   \n",
              "3                         False                       False   \n",
              "4                         False                       False   \n",
              "\n",
              "   Size_51 to 200 employees  ...  Type of ownership_Unknown  seniority_na  \\\n",
              "0                     False  ...                      False          True   \n",
              "1                     False  ...                      False          True   \n",
              "2                     False  ...                      False          True   \n",
              "3                     False  ...                      False          True   \n",
              "4                      True  ...                      False          True   \n",
              "\n",
              "   seniority_senior  Job_simp_analyst  Job_simp_data engineer  \\\n",
              "0             False             False                   False   \n",
              "1             False             False                   False   \n",
              "2             False             False                   False   \n",
              "3             False             False                   False   \n",
              "4             False             False                   False   \n",
              "\n",
              "   Job_simp_data scientist  Job_simp_director  Job_simp_manager  Job_simp_mle  \\\n",
              "0                     True              False             False         False   \n",
              "1                     True              False             False         False   \n",
              "2                     True              False             False         False   \n",
              "3                     True              False             False         False   \n",
              "4                     True              False             False         False   \n",
              "\n",
              "   Job_simp_na  \n",
              "0        False  \n",
              "1        False  \n",
              "2        False  \n",
              "3        False  \n",
              "4        False  \n",
              "\n",
              "[5 rows x 31 columns]"
            ]
          },
          "execution_count": 15,
          "metadata": {},
          "output_type": "execute_result"
        }
      ],
      "source": [
        "df_dum.head()"
      ]
    },
    {
      "cell_type": "code",
      "execution_count": 16,
      "id": "aa0c7234",
      "metadata": {
        "id": "aa0c7234"
      },
      "outputs": [],
      "source": [
        "X = df_dum.drop('avg_salary', axis= 'columns')\n",
        "Y = df_dum['avg_salary']"
      ]
    },
    {
      "cell_type": "code",
      "execution_count": 17,
      "id": "f5531114",
      "metadata": {
        "colab": {
          "base_uri": "https://localhost:8080/"
        },
        "id": "f5531114",
        "outputId": "882e3bae-0604-4707-e073-8528378da24b"
      },
      "outputs": [
        {
          "name": "stdout",
          "output_type": "stream",
          "text": [
            "<class 'pandas.core.frame.DataFrame'>\n",
            "RangeIndex: 742 entries, 0 to 741\n",
            "Data columns (total 30 columns):\n",
            " #   Column                                            Non-Null Count  Dtype\n",
            "---  ------                                            --------------  -----\n",
            " 0   age                                               742 non-null    int64\n",
            " 1   Size_-1                                           742 non-null    bool \n",
            " 2   Size_1 to 50 employees                            742 non-null    bool \n",
            " 3   Size_10000+ employees                             742 non-null    bool \n",
            " 4   Size_1001 to 5000 employees                       742 non-null    bool \n",
            " 5   Size_201 to 500 employees                         742 non-null    bool \n",
            " 6   Size_5001 to 10000 employees                      742 non-null    bool \n",
            " 7   Size_501 to 1000 employees                        742 non-null    bool \n",
            " 8   Size_51 to 200 employees                          742 non-null    bool \n",
            " 9   Size_Unknown                                      742 non-null    bool \n",
            " 10  Type of ownership_-1                              742 non-null    bool \n",
            " 11  Type of ownership_College / University            742 non-null    bool \n",
            " 12  Type of ownership_Company - Private               742 non-null    bool \n",
            " 13  Type of ownership_Company - Public                742 non-null    bool \n",
            " 14  Type of ownership_Government                      742 non-null    bool \n",
            " 15  Type of ownership_Hospital                        742 non-null    bool \n",
            " 16  Type of ownership_Nonprofit Organization          742 non-null    bool \n",
            " 17  Type of ownership_Other Organization              742 non-null    bool \n",
            " 18  Type of ownership_School / School District        742 non-null    bool \n",
            " 19  Type of ownership_Subsidiary or Business Segment  742 non-null    bool \n",
            " 20  Type of ownership_Unknown                         742 non-null    bool \n",
            " 21  seniority_na                                      742 non-null    bool \n",
            " 22  seniority_senior                                  742 non-null    bool \n",
            " 23  Job_simp_analyst                                  742 non-null    bool \n",
            " 24  Job_simp_data engineer                            742 non-null    bool \n",
            " 25  Job_simp_data scientist                           742 non-null    bool \n",
            " 26  Job_simp_director                                 742 non-null    bool \n",
            " 27  Job_simp_manager                                  742 non-null    bool \n",
            " 28  Job_simp_mle                                      742 non-null    bool \n",
            " 29  Job_simp_na                                       742 non-null    bool \n",
            "dtypes: bool(29), int64(1)\n",
            "memory usage: 26.9 KB\n"
          ]
        }
      ],
      "source": [
        "X.info()"
      ]
    },
    {
      "cell_type": "code",
      "execution_count": 18,
      "id": "d63907ca",
      "metadata": {
        "id": "d63907ca"
      },
      "outputs": [],
      "source": [
        "# train test split\n",
        "from sklearn.model_selection import train_test_split\n",
        "x_train, x_test, y_train, y_test = train_test_split(X, Y, test_size=0.2, random_state=42)"
      ]
    },
    {
      "cell_type": "code",
      "execution_count": 19,
      "id": "f7e0d520",
      "metadata": {
        "id": "f7e0d520"
      },
      "outputs": [],
      "source": [
        "# Lasso model\n",
        "from sklearn.linear_model import Lasso\n",
        "from sklearn.model_selection import cross_val_score\n",
        "import numpy as np"
      ]
    },
    {
      "cell_type": "code",
      "execution_count": 20,
      "id": "ecec3015",
      "metadata": {
        "colab": {
          "base_uri": "https://localhost:8080/"
        },
        "id": "ecec3015",
        "outputId": "aea42726-b266-4a8d-b1b3-dbd94f61bc8a"
      },
      "outputs": [
        {
          "data": {
            "text/plain": [
              "np.float64(-22.30677173432059)"
            ]
          },
          "execution_count": 20,
          "metadata": {},
          "output_type": "execute_result"
        }
      ],
      "source": [
        "lm_l = Lasso(alpha=0.13)\n",
        "lm_l.fit(x_train, y_train)\n",
        "np.mean(cross_val_score(lm_l, x_train, y_train, scoring='neg_mean_absolute_error', cv=3))"
      ]
    },
    {
      "cell_type": "code",
      "execution_count": 21,
      "id": "de7b15c7",
      "metadata": {
        "colab": {
          "base_uri": "https://localhost:8080/"
        },
        "id": "de7b15c7",
        "outputId": "6a15c46d-5672-46b9-a157-9f13af9a74d4"
      },
      "outputs": [
        {
          "data": {
            "text/plain": [
              "np.float64(-18.69100339218347)"
            ]
          },
          "execution_count": 21,
          "metadata": {},
          "output_type": "execute_result"
        }
      ],
      "source": [
        "# RandomForestRegressor model\n",
        "from sklearn.ensemble import RandomForestRegressor\n",
        "rf = RandomForestRegressor()\n",
        "np.mean(cross_val_score(rf, x_train, y_train, scoring='neg_mean_absolute_error', cv=3))"
      ]
    },
    {
      "cell_type": "code",
      "execution_count": 22,
      "id": "61bfabd6",
      "metadata": {
        "id": "61bfabd6"
      },
      "outputs": [],
      "source": [
        "from sklearn.model_selection import RandomizedSearchCV"
      ]
    },
    {
      "cell_type": "code",
      "execution_count": 23,
      "id": "f0266005",
      "metadata": {
        "id": "f0266005"
      },
      "outputs": [],
      "source": [
        "# Hyperparameter grid without 'max_features'\n",
        "n_estimators = [int(x) for x in np.linspace(start=400, stop=1200, num=5)]\n",
        "max_depth = [int(x) for x in np.linspace(5, 30, num=6)]\n",
        "min_sample_split = [2, 5, 10, 15, 100]\n",
        "min_sample_leaf = [1, 2, 5, 10, 15, 20]"
      ]
    },
    {
      "cell_type": "code",
      "execution_count": 24,
      "id": "7e99cc56",
      "metadata": {
        "colab": {
          "base_uri": "https://localhost:8080/"
        },
        "id": "7e99cc56",
        "outputId": "a875413c-175e-47a0-cb36-f5ce069e12aa"
      },
      "outputs": [
        {
          "name": "stdout",
          "output_type": "stream",
          "text": [
            "{'n_estimators': [400, 600, 800, 1000, 1200], 'max_depth': [5, 10, 15, 20, 25, 30], 'min_samples_split': [2, 5, 10, 15, 100], 'min_samples_leaf': [1, 2, 5, 10, 15, 20]}\n"
          ]
        }
      ],
      "source": [
        "# Create the random grid\n",
        "random_grid = {\n",
        "    'n_estimators': n_estimators,\n",
        "    'max_depth': max_depth,\n",
        "    'min_samples_split': min_sample_split,\n",
        "    'min_samples_leaf': min_sample_leaf\n",
        "}\n",
        "print(random_grid)"
      ]
    },
    {
      "cell_type": "code",
      "execution_count": 25,
      "id": "60a868b0",
      "metadata": {
        "id": "60a868b0"
      },
      "outputs": [],
      "source": [
        "#Random search of parameters, using 3 fold cross validation,\n",
        "#search across 100 different combinations\n",
        "# RandomizedSearchCV\n",
        "rf_random = RandomizedSearchCV(\n",
        "    estimator=rf,\n",
        "    param_distributions=random_grid,\n",
        "    n_iter=10,\n",
        "    cv=5,\n",
        "    verbose=2,\n",
        "    n_jobs=1\n",
        ")"
      ]
    },
    {
      "cell_type": "code",
      "execution_count": 26,
      "id": "47fa02f0",
      "metadata": {
        "colab": {
          "base_uri": "https://localhost:8080/",
          "height": 1000
        },
        "id": "47fa02f0",
        "outputId": "37d1494e-29d2-4bd0-f8e9-02bd5f69b6d3"
      },
      "outputs": [
        {
          "name": "stdout",
          "output_type": "stream",
          "text": [
            "Fitting 5 folds for each of 10 candidates, totalling 50 fits\n",
            "[CV] END max_depth=5, min_samples_leaf=10, min_samples_split=15, n_estimators=600; total time=   0.9s\n",
            "[CV] END max_depth=5, min_samples_leaf=10, min_samples_split=15, n_estimators=600; total time=   0.8s\n",
            "[CV] END max_depth=5, min_samples_leaf=10, min_samples_split=15, n_estimators=600; total time=   0.9s\n",
            "[CV] END max_depth=5, min_samples_leaf=10, min_samples_split=15, n_estimators=600; total time=   0.7s\n",
            "[CV] END max_depth=5, min_samples_leaf=10, min_samples_split=15, n_estimators=600; total time=   0.7s\n",
            "[CV] END max_depth=30, min_samples_leaf=15, min_samples_split=5, n_estimators=600; total time=   0.7s\n",
            "[CV] END max_depth=30, min_samples_leaf=15, min_samples_split=5, n_estimators=600; total time=   0.8s\n",
            "[CV] END max_depth=30, min_samples_leaf=15, min_samples_split=5, n_estimators=600; total time=   0.7s\n",
            "[CV] END max_depth=30, min_samples_leaf=15, min_samples_split=5, n_estimators=600; total time=   0.7s\n",
            "[CV] END max_depth=30, min_samples_leaf=15, min_samples_split=5, n_estimators=600; total time=   0.7s\n",
            "[CV] END max_depth=20, min_samples_leaf=5, min_samples_split=10, n_estimators=1200; total time=   1.9s\n",
            "[CV] END max_depth=20, min_samples_leaf=5, min_samples_split=10, n_estimators=1200; total time=   1.7s\n",
            "[CV] END max_depth=20, min_samples_leaf=5, min_samples_split=10, n_estimators=1200; total time=   1.7s\n",
            "[CV] END max_depth=20, min_samples_leaf=5, min_samples_split=10, n_estimators=1200; total time=   1.7s\n",
            "[CV] END max_depth=20, min_samples_leaf=5, min_samples_split=10, n_estimators=1200; total time=   1.7s\n",
            "[CV] END max_depth=20, min_samples_leaf=10, min_samples_split=2, n_estimators=800; total time=   1.0s\n",
            "[CV] END max_depth=20, min_samples_leaf=10, min_samples_split=2, n_estimators=800; total time=   1.0s\n",
            "[CV] END max_depth=20, min_samples_leaf=10, min_samples_split=2, n_estimators=800; total time=   0.9s\n",
            "[CV] END max_depth=20, min_samples_leaf=10, min_samples_split=2, n_estimators=800; total time=   1.0s\n",
            "[CV] END max_depth=20, min_samples_leaf=10, min_samples_split=2, n_estimators=800; total time=   1.0s\n",
            "[CV] END max_depth=25, min_samples_leaf=15, min_samples_split=2, n_estimators=1000; total time=   1.2s\n",
            "[CV] END max_depth=25, min_samples_leaf=15, min_samples_split=2, n_estimators=1000; total time=   1.2s\n",
            "[CV] END max_depth=25, min_samples_leaf=15, min_samples_split=2, n_estimators=1000; total time=   1.1s\n",
            "[CV] END max_depth=25, min_samples_leaf=15, min_samples_split=2, n_estimators=1000; total time=   2.2s\n",
            "[CV] END max_depth=25, min_samples_leaf=15, min_samples_split=2, n_estimators=1000; total time=   1.5s\n",
            "[CV] END max_depth=10, min_samples_leaf=2, min_samples_split=10, n_estimators=600; total time=   0.8s\n",
            "[CV] END max_depth=10, min_samples_leaf=2, min_samples_split=10, n_estimators=600; total time=   0.9s\n",
            "[CV] END max_depth=10, min_samples_leaf=2, min_samples_split=10, n_estimators=600; total time=   0.8s\n",
            "[CV] END max_depth=10, min_samples_leaf=2, min_samples_split=10, n_estimators=600; total time=   0.8s\n",
            "[CV] END max_depth=10, min_samples_leaf=2, min_samples_split=10, n_estimators=600; total time=   0.8s\n",
            "[CV] END max_depth=30, min_samples_leaf=20, min_samples_split=5, n_estimators=1000; total time=   1.1s\n",
            "[CV] END max_depth=30, min_samples_leaf=20, min_samples_split=5, n_estimators=1000; total time=   1.3s\n",
            "[CV] END max_depth=30, min_samples_leaf=20, min_samples_split=5, n_estimators=1000; total time=   1.1s\n",
            "[CV] END max_depth=30, min_samples_leaf=20, min_samples_split=5, n_estimators=1000; total time=   1.2s\n",
            "[CV] END max_depth=30, min_samples_leaf=20, min_samples_split=5, n_estimators=1000; total time=   1.3s\n",
            "[CV] END max_depth=25, min_samples_leaf=15, min_samples_split=15, n_estimators=1200; total time=   1.5s\n",
            "[CV] END max_depth=25, min_samples_leaf=15, min_samples_split=15, n_estimators=1200; total time=   1.5s\n",
            "[CV] END max_depth=25, min_samples_leaf=15, min_samples_split=15, n_estimators=1200; total time=   1.5s\n",
            "[CV] END max_depth=25, min_samples_leaf=15, min_samples_split=15, n_estimators=1200; total time=   1.5s\n",
            "[CV] END max_depth=25, min_samples_leaf=15, min_samples_split=15, n_estimators=1200; total time=   1.5s\n",
            "[CV] END max_depth=20, min_samples_leaf=5, min_samples_split=15, n_estimators=1200; total time=   1.6s\n",
            "[CV] END max_depth=20, min_samples_leaf=5, min_samples_split=15, n_estimators=1200; total time=   1.6s\n",
            "[CV] END max_depth=20, min_samples_leaf=5, min_samples_split=15, n_estimators=1200; total time=   1.6s\n",
            "[CV] END max_depth=20, min_samples_leaf=5, min_samples_split=15, n_estimators=1200; total time=   1.6s\n",
            "[CV] END max_depth=20, min_samples_leaf=5, min_samples_split=15, n_estimators=1200; total time=   1.6s\n",
            "[CV] END max_depth=25, min_samples_leaf=1, min_samples_split=10, n_estimators=1200; total time=   1.9s\n",
            "[CV] END max_depth=25, min_samples_leaf=1, min_samples_split=10, n_estimators=1200; total time=   2.1s\n",
            "[CV] END max_depth=25, min_samples_leaf=1, min_samples_split=10, n_estimators=1200; total time=   1.9s\n",
            "[CV] END max_depth=25, min_samples_leaf=1, min_samples_split=10, n_estimators=1200; total time=   2.0s\n",
            "[CV] END max_depth=25, min_samples_leaf=1, min_samples_split=10, n_estimators=1200; total time=   2.0s\n"
          ]
        },
        {
          "data": {
            "text/html": [
              "<style>#sk-container-id-1 {\n",
              "  /* Definition of color scheme common for light and dark mode */\n",
              "  --sklearn-color-text: #000;\n",
              "  --sklearn-color-text-muted: #666;\n",
              "  --sklearn-color-line: gray;\n",
              "  /* Definition of color scheme for unfitted estimators */\n",
              "  --sklearn-color-unfitted-level-0: #fff5e6;\n",
              "  --sklearn-color-unfitted-level-1: #f6e4d2;\n",
              "  --sklearn-color-unfitted-level-2: #ffe0b3;\n",
              "  --sklearn-color-unfitted-level-3: chocolate;\n",
              "  /* Definition of color scheme for fitted estimators */\n",
              "  --sklearn-color-fitted-level-0: #f0f8ff;\n",
              "  --sklearn-color-fitted-level-1: #d4ebff;\n",
              "  --sklearn-color-fitted-level-2: #b3dbfd;\n",
              "  --sklearn-color-fitted-level-3: cornflowerblue;\n",
              "\n",
              "  /* Specific color for light theme */\n",
              "  --sklearn-color-text-on-default-background: var(--sg-text-color, var(--theme-code-foreground, var(--jp-content-font-color1, black)));\n",
              "  --sklearn-color-background: var(--sg-background-color, var(--theme-background, var(--jp-layout-color0, white)));\n",
              "  --sklearn-color-border-box: var(--sg-text-color, var(--theme-code-foreground, var(--jp-content-font-color1, black)));\n",
              "  --sklearn-color-icon: #696969;\n",
              "\n",
              "  @media (prefers-color-scheme: dark) {\n",
              "    /* Redefinition of color scheme for dark theme */\n",
              "    --sklearn-color-text-on-default-background: var(--sg-text-color, var(--theme-code-foreground, var(--jp-content-font-color1, white)));\n",
              "    --sklearn-color-background: var(--sg-background-color, var(--theme-background, var(--jp-layout-color0, #111)));\n",
              "    --sklearn-color-border-box: var(--sg-text-color, var(--theme-code-foreground, var(--jp-content-font-color1, white)));\n",
              "    --sklearn-color-icon: #878787;\n",
              "  }\n",
              "}\n",
              "\n",
              "#sk-container-id-1 {\n",
              "  color: var(--sklearn-color-text);\n",
              "}\n",
              "\n",
              "#sk-container-id-1 pre {\n",
              "  padding: 0;\n",
              "}\n",
              "\n",
              "#sk-container-id-1 input.sk-hidden--visually {\n",
              "  border: 0;\n",
              "  clip: rect(1px 1px 1px 1px);\n",
              "  clip: rect(1px, 1px, 1px, 1px);\n",
              "  height: 1px;\n",
              "  margin: -1px;\n",
              "  overflow: hidden;\n",
              "  padding: 0;\n",
              "  position: absolute;\n",
              "  width: 1px;\n",
              "}\n",
              "\n",
              "#sk-container-id-1 div.sk-dashed-wrapped {\n",
              "  border: 1px dashed var(--sklearn-color-line);\n",
              "  margin: 0 0.4em 0.5em 0.4em;\n",
              "  box-sizing: border-box;\n",
              "  padding-bottom: 0.4em;\n",
              "  background-color: var(--sklearn-color-background);\n",
              "}\n",
              "\n",
              "#sk-container-id-1 div.sk-container {\n",
              "  /* jupyter's `normalize.less` sets `[hidden] { display: none; }`\n",
              "     but bootstrap.min.css set `[hidden] { display: none !important; }`\n",
              "     so we also need the `!important` here to be able to override the\n",
              "     default hidden behavior on the sphinx rendered scikit-learn.org.\n",
              "     See: https://github.com/scikit-learn/scikit-learn/issues/21755 */\n",
              "  display: inline-block !important;\n",
              "  position: relative;\n",
              "}\n",
              "\n",
              "#sk-container-id-1 div.sk-text-repr-fallback {\n",
              "  display: none;\n",
              "}\n",
              "\n",
              "div.sk-parallel-item,\n",
              "div.sk-serial,\n",
              "div.sk-item {\n",
              "  /* draw centered vertical line to link estimators */\n",
              "  background-image: linear-gradient(var(--sklearn-color-text-on-default-background), var(--sklearn-color-text-on-default-background));\n",
              "  background-size: 2px 100%;\n",
              "  background-repeat: no-repeat;\n",
              "  background-position: center center;\n",
              "}\n",
              "\n",
              "/* Parallel-specific style estimator block */\n",
              "\n",
              "#sk-container-id-1 div.sk-parallel-item::after {\n",
              "  content: \"\";\n",
              "  width: 100%;\n",
              "  border-bottom: 2px solid var(--sklearn-color-text-on-default-background);\n",
              "  flex-grow: 1;\n",
              "}\n",
              "\n",
              "#sk-container-id-1 div.sk-parallel {\n",
              "  display: flex;\n",
              "  align-items: stretch;\n",
              "  justify-content: center;\n",
              "  background-color: var(--sklearn-color-background);\n",
              "  position: relative;\n",
              "}\n",
              "\n",
              "#sk-container-id-1 div.sk-parallel-item {\n",
              "  display: flex;\n",
              "  flex-direction: column;\n",
              "}\n",
              "\n",
              "#sk-container-id-1 div.sk-parallel-item:first-child::after {\n",
              "  align-self: flex-end;\n",
              "  width: 50%;\n",
              "}\n",
              "\n",
              "#sk-container-id-1 div.sk-parallel-item:last-child::after {\n",
              "  align-self: flex-start;\n",
              "  width: 50%;\n",
              "}\n",
              "\n",
              "#sk-container-id-1 div.sk-parallel-item:only-child::after {\n",
              "  width: 0;\n",
              "}\n",
              "\n",
              "/* Serial-specific style estimator block */\n",
              "\n",
              "#sk-container-id-1 div.sk-serial {\n",
              "  display: flex;\n",
              "  flex-direction: column;\n",
              "  align-items: center;\n",
              "  background-color: var(--sklearn-color-background);\n",
              "  padding-right: 1em;\n",
              "  padding-left: 1em;\n",
              "}\n",
              "\n",
              "\n",
              "/* Toggleable style: style used for estimator/Pipeline/ColumnTransformer box that is\n",
              "clickable and can be expanded/collapsed.\n",
              "- Pipeline and ColumnTransformer use this feature and define the default style\n",
              "- Estimators will overwrite some part of the style using the `sk-estimator` class\n",
              "*/\n",
              "\n",
              "/* Pipeline and ColumnTransformer style (default) */\n",
              "\n",
              "#sk-container-id-1 div.sk-toggleable {\n",
              "  /* Default theme specific background. It is overwritten whether we have a\n",
              "  specific estimator or a Pipeline/ColumnTransformer */\n",
              "  background-color: var(--sklearn-color-background);\n",
              "}\n",
              "\n",
              "/* Toggleable label */\n",
              "#sk-container-id-1 label.sk-toggleable__label {\n",
              "  cursor: pointer;\n",
              "  display: flex;\n",
              "  width: 100%;\n",
              "  margin-bottom: 0;\n",
              "  padding: 0.5em;\n",
              "  box-sizing: border-box;\n",
              "  text-align: center;\n",
              "  align-items: start;\n",
              "  justify-content: space-between;\n",
              "  gap: 0.5em;\n",
              "}\n",
              "\n",
              "#sk-container-id-1 label.sk-toggleable__label .caption {\n",
              "  font-size: 0.6rem;\n",
              "  font-weight: lighter;\n",
              "  color: var(--sklearn-color-text-muted);\n",
              "}\n",
              "\n",
              "#sk-container-id-1 label.sk-toggleable__label-arrow:before {\n",
              "  /* Arrow on the left of the label */\n",
              "  content: \"▸\";\n",
              "  float: left;\n",
              "  margin-right: 0.25em;\n",
              "  color: var(--sklearn-color-icon);\n",
              "}\n",
              "\n",
              "#sk-container-id-1 label.sk-toggleable__label-arrow:hover:before {\n",
              "  color: var(--sklearn-color-text);\n",
              "}\n",
              "\n",
              "/* Toggleable content - dropdown */\n",
              "\n",
              "#sk-container-id-1 div.sk-toggleable__content {\n",
              "  max-height: 0;\n",
              "  max-width: 0;\n",
              "  overflow: hidden;\n",
              "  text-align: left;\n",
              "  /* unfitted */\n",
              "  background-color: var(--sklearn-color-unfitted-level-0);\n",
              "}\n",
              "\n",
              "#sk-container-id-1 div.sk-toggleable__content.fitted {\n",
              "  /* fitted */\n",
              "  background-color: var(--sklearn-color-fitted-level-0);\n",
              "}\n",
              "\n",
              "#sk-container-id-1 div.sk-toggleable__content pre {\n",
              "  margin: 0.2em;\n",
              "  border-radius: 0.25em;\n",
              "  color: var(--sklearn-color-text);\n",
              "  /* unfitted */\n",
              "  background-color: var(--sklearn-color-unfitted-level-0);\n",
              "}\n",
              "\n",
              "#sk-container-id-1 div.sk-toggleable__content.fitted pre {\n",
              "  /* unfitted */\n",
              "  background-color: var(--sklearn-color-fitted-level-0);\n",
              "}\n",
              "\n",
              "#sk-container-id-1 input.sk-toggleable__control:checked~div.sk-toggleable__content {\n",
              "  /* Expand drop-down */\n",
              "  max-height: 200px;\n",
              "  max-width: 100%;\n",
              "  overflow: auto;\n",
              "}\n",
              "\n",
              "#sk-container-id-1 input.sk-toggleable__control:checked~label.sk-toggleable__label-arrow:before {\n",
              "  content: \"▾\";\n",
              "}\n",
              "\n",
              "/* Pipeline/ColumnTransformer-specific style */\n",
              "\n",
              "#sk-container-id-1 div.sk-label input.sk-toggleable__control:checked~label.sk-toggleable__label {\n",
              "  color: var(--sklearn-color-text);\n",
              "  background-color: var(--sklearn-color-unfitted-level-2);\n",
              "}\n",
              "\n",
              "#sk-container-id-1 div.sk-label.fitted input.sk-toggleable__control:checked~label.sk-toggleable__label {\n",
              "  background-color: var(--sklearn-color-fitted-level-2);\n",
              "}\n",
              "\n",
              "/* Estimator-specific style */\n",
              "\n",
              "/* Colorize estimator box */\n",
              "#sk-container-id-1 div.sk-estimator input.sk-toggleable__control:checked~label.sk-toggleable__label {\n",
              "  /* unfitted */\n",
              "  background-color: var(--sklearn-color-unfitted-level-2);\n",
              "}\n",
              "\n",
              "#sk-container-id-1 div.sk-estimator.fitted input.sk-toggleable__control:checked~label.sk-toggleable__label {\n",
              "  /* fitted */\n",
              "  background-color: var(--sklearn-color-fitted-level-2);\n",
              "}\n",
              "\n",
              "#sk-container-id-1 div.sk-label label.sk-toggleable__label,\n",
              "#sk-container-id-1 div.sk-label label {\n",
              "  /* The background is the default theme color */\n",
              "  color: var(--sklearn-color-text-on-default-background);\n",
              "}\n",
              "\n",
              "/* On hover, darken the color of the background */\n",
              "#sk-container-id-1 div.sk-label:hover label.sk-toggleable__label {\n",
              "  color: var(--sklearn-color-text);\n",
              "  background-color: var(--sklearn-color-unfitted-level-2);\n",
              "}\n",
              "\n",
              "/* Label box, darken color on hover, fitted */\n",
              "#sk-container-id-1 div.sk-label.fitted:hover label.sk-toggleable__label.fitted {\n",
              "  color: var(--sklearn-color-text);\n",
              "  background-color: var(--sklearn-color-fitted-level-2);\n",
              "}\n",
              "\n",
              "/* Estimator label */\n",
              "\n",
              "#sk-container-id-1 div.sk-label label {\n",
              "  font-family: monospace;\n",
              "  font-weight: bold;\n",
              "  display: inline-block;\n",
              "  line-height: 1.2em;\n",
              "}\n",
              "\n",
              "#sk-container-id-1 div.sk-label-container {\n",
              "  text-align: center;\n",
              "}\n",
              "\n",
              "/* Estimator-specific */\n",
              "#sk-container-id-1 div.sk-estimator {\n",
              "  font-family: monospace;\n",
              "  border: 1px dotted var(--sklearn-color-border-box);\n",
              "  border-radius: 0.25em;\n",
              "  box-sizing: border-box;\n",
              "  margin-bottom: 0.5em;\n",
              "  /* unfitted */\n",
              "  background-color: var(--sklearn-color-unfitted-level-0);\n",
              "}\n",
              "\n",
              "#sk-container-id-1 div.sk-estimator.fitted {\n",
              "  /* fitted */\n",
              "  background-color: var(--sklearn-color-fitted-level-0);\n",
              "}\n",
              "\n",
              "/* on hover */\n",
              "#sk-container-id-1 div.sk-estimator:hover {\n",
              "  /* unfitted */\n",
              "  background-color: var(--sklearn-color-unfitted-level-2);\n",
              "}\n",
              "\n",
              "#sk-container-id-1 div.sk-estimator.fitted:hover {\n",
              "  /* fitted */\n",
              "  background-color: var(--sklearn-color-fitted-level-2);\n",
              "}\n",
              "\n",
              "/* Specification for estimator info (e.g. \"i\" and \"?\") */\n",
              "\n",
              "/* Common style for \"i\" and \"?\" */\n",
              "\n",
              ".sk-estimator-doc-link,\n",
              "a:link.sk-estimator-doc-link,\n",
              "a:visited.sk-estimator-doc-link {\n",
              "  float: right;\n",
              "  font-size: smaller;\n",
              "  line-height: 1em;\n",
              "  font-family: monospace;\n",
              "  background-color: var(--sklearn-color-background);\n",
              "  border-radius: 1em;\n",
              "  height: 1em;\n",
              "  width: 1em;\n",
              "  text-decoration: none !important;\n",
              "  margin-left: 0.5em;\n",
              "  text-align: center;\n",
              "  /* unfitted */\n",
              "  border: var(--sklearn-color-unfitted-level-1) 1pt solid;\n",
              "  color: var(--sklearn-color-unfitted-level-1);\n",
              "}\n",
              "\n",
              ".sk-estimator-doc-link.fitted,\n",
              "a:link.sk-estimator-doc-link.fitted,\n",
              "a:visited.sk-estimator-doc-link.fitted {\n",
              "  /* fitted */\n",
              "  border: var(--sklearn-color-fitted-level-1) 1pt solid;\n",
              "  color: var(--sklearn-color-fitted-level-1);\n",
              "}\n",
              "\n",
              "/* On hover */\n",
              "div.sk-estimator:hover .sk-estimator-doc-link:hover,\n",
              ".sk-estimator-doc-link:hover,\n",
              "div.sk-label-container:hover .sk-estimator-doc-link:hover,\n",
              ".sk-estimator-doc-link:hover {\n",
              "  /* unfitted */\n",
              "  background-color: var(--sklearn-color-unfitted-level-3);\n",
              "  color: var(--sklearn-color-background);\n",
              "  text-decoration: none;\n",
              "}\n",
              "\n",
              "div.sk-estimator.fitted:hover .sk-estimator-doc-link.fitted:hover,\n",
              ".sk-estimator-doc-link.fitted:hover,\n",
              "div.sk-label-container:hover .sk-estimator-doc-link.fitted:hover,\n",
              ".sk-estimator-doc-link.fitted:hover {\n",
              "  /* fitted */\n",
              "  background-color: var(--sklearn-color-fitted-level-3);\n",
              "  color: var(--sklearn-color-background);\n",
              "  text-decoration: none;\n",
              "}\n",
              "\n",
              "/* Span, style for the box shown on hovering the info icon */\n",
              ".sk-estimator-doc-link span {\n",
              "  display: none;\n",
              "  z-index: 9999;\n",
              "  position: relative;\n",
              "  font-weight: normal;\n",
              "  right: .2ex;\n",
              "  padding: .5ex;\n",
              "  margin: .5ex;\n",
              "  width: min-content;\n",
              "  min-width: 20ex;\n",
              "  max-width: 50ex;\n",
              "  color: var(--sklearn-color-text);\n",
              "  box-shadow: 2pt 2pt 4pt #999;\n",
              "  /* unfitted */\n",
              "  background: var(--sklearn-color-unfitted-level-0);\n",
              "  border: .5pt solid var(--sklearn-color-unfitted-level-3);\n",
              "}\n",
              "\n",
              ".sk-estimator-doc-link.fitted span {\n",
              "  /* fitted */\n",
              "  background: var(--sklearn-color-fitted-level-0);\n",
              "  border: var(--sklearn-color-fitted-level-3);\n",
              "}\n",
              "\n",
              ".sk-estimator-doc-link:hover span {\n",
              "  display: block;\n",
              "}\n",
              "\n",
              "/* \"?\"-specific style due to the `<a>` HTML tag */\n",
              "\n",
              "#sk-container-id-1 a.estimator_doc_link {\n",
              "  float: right;\n",
              "  font-size: 1rem;\n",
              "  line-height: 1em;\n",
              "  font-family: monospace;\n",
              "  background-color: var(--sklearn-color-background);\n",
              "  border-radius: 1rem;\n",
              "  height: 1rem;\n",
              "  width: 1rem;\n",
              "  text-decoration: none;\n",
              "  /* unfitted */\n",
              "  color: var(--sklearn-color-unfitted-level-1);\n",
              "  border: var(--sklearn-color-unfitted-level-1) 1pt solid;\n",
              "}\n",
              "\n",
              "#sk-container-id-1 a.estimator_doc_link.fitted {\n",
              "  /* fitted */\n",
              "  border: var(--sklearn-color-fitted-level-1) 1pt solid;\n",
              "  color: var(--sklearn-color-fitted-level-1);\n",
              "}\n",
              "\n",
              "/* On hover */\n",
              "#sk-container-id-1 a.estimator_doc_link:hover {\n",
              "  /* unfitted */\n",
              "  background-color: var(--sklearn-color-unfitted-level-3);\n",
              "  color: var(--sklearn-color-background);\n",
              "  text-decoration: none;\n",
              "}\n",
              "\n",
              "#sk-container-id-1 a.estimator_doc_link.fitted:hover {\n",
              "  /* fitted */\n",
              "  background-color: var(--sklearn-color-fitted-level-3);\n",
              "}\n",
              "</style><div id=\"sk-container-id-1\" class=\"sk-top-container\"><div class=\"sk-text-repr-fallback\"><pre>RandomizedSearchCV(cv=5, estimator=RandomForestRegressor(), n_jobs=1,\n",
              "                   param_distributions={&#x27;max_depth&#x27;: [5, 10, 15, 20, 25, 30],\n",
              "                                        &#x27;min_samples_leaf&#x27;: [1, 2, 5, 10, 15,\n",
              "                                                             20],\n",
              "                                        &#x27;min_samples_split&#x27;: [2, 5, 10, 15,\n",
              "                                                              100],\n",
              "                                        &#x27;n_estimators&#x27;: [400, 600, 800, 1000,\n",
              "                                                         1200]},\n",
              "                   verbose=2)</pre><b>In a Jupyter environment, please rerun this cell to show the HTML representation or trust the notebook. <br />On GitHub, the HTML representation is unable to render, please try loading this page with nbviewer.org.</b></div><div class=\"sk-container\" hidden><div class=\"sk-item sk-dashed-wrapped\"><div class=\"sk-label-container\"><div class=\"sk-label fitted sk-toggleable\"><input class=\"sk-toggleable__control sk-hidden--visually\" id=\"sk-estimator-id-1\" type=\"checkbox\" ><label for=\"sk-estimator-id-1\" class=\"sk-toggleable__label fitted sk-toggleable__label-arrow\"><div><div>RandomizedSearchCV</div></div><div><a class=\"sk-estimator-doc-link fitted\" rel=\"noreferrer\" target=\"_blank\" href=\"https://scikit-learn.org/1.6/modules/generated/sklearn.model_selection.RandomizedSearchCV.html\">?<span>Documentation for RandomizedSearchCV</span></a><span class=\"sk-estimator-doc-link fitted\">i<span>Fitted</span></span></div></label><div class=\"sk-toggleable__content fitted\"><pre>RandomizedSearchCV(cv=5, estimator=RandomForestRegressor(), n_jobs=1,\n",
              "                   param_distributions={&#x27;max_depth&#x27;: [5, 10, 15, 20, 25, 30],\n",
              "                                        &#x27;min_samples_leaf&#x27;: [1, 2, 5, 10, 15,\n",
              "                                                             20],\n",
              "                                        &#x27;min_samples_split&#x27;: [2, 5, 10, 15,\n",
              "                                                              100],\n",
              "                                        &#x27;n_estimators&#x27;: [400, 600, 800, 1000,\n",
              "                                                         1200]},\n",
              "                   verbose=2)</pre></div> </div></div><div class=\"sk-parallel\"><div class=\"sk-parallel-item\"><div class=\"sk-item\"><div class=\"sk-label-container\"><div class=\"sk-label fitted sk-toggleable\"><input class=\"sk-toggleable__control sk-hidden--visually\" id=\"sk-estimator-id-2\" type=\"checkbox\" ><label for=\"sk-estimator-id-2\" class=\"sk-toggleable__label fitted sk-toggleable__label-arrow\"><div><div>best_estimator_: RandomForestRegressor</div></div></label><div class=\"sk-toggleable__content fitted\"><pre>RandomForestRegressor(max_depth=25, min_samples_split=10, n_estimators=1200)</pre></div> </div></div><div class=\"sk-serial\"><div class=\"sk-item\"><div class=\"sk-estimator fitted sk-toggleable\"><input class=\"sk-toggleable__control sk-hidden--visually\" id=\"sk-estimator-id-3\" type=\"checkbox\" ><label for=\"sk-estimator-id-3\" class=\"sk-toggleable__label fitted sk-toggleable__label-arrow\"><div><div>RandomForestRegressor</div></div><div><a class=\"sk-estimator-doc-link fitted\" rel=\"noreferrer\" target=\"_blank\" href=\"https://scikit-learn.org/1.6/modules/generated/sklearn.ensemble.RandomForestRegressor.html\">?<span>Documentation for RandomForestRegressor</span></a></div></label><div class=\"sk-toggleable__content fitted\"><pre>RandomForestRegressor(max_depth=25, min_samples_split=10, n_estimators=1200)</pre></div> </div></div></div></div></div></div></div></div></div>"
            ],
            "text/plain": [
              "RandomizedSearchCV(cv=5, estimator=RandomForestRegressor(), n_jobs=1,\n",
              "                   param_distributions={'max_depth': [5, 10, 15, 20, 25, 30],\n",
              "                                        'min_samples_leaf': [1, 2, 5, 10, 15,\n",
              "                                                             20],\n",
              "                                        'min_samples_split': [2, 5, 10, 15,\n",
              "                                                              100],\n",
              "                                        'n_estimators': [400, 600, 800, 1000,\n",
              "                                                         1200]},\n",
              "                   verbose=2)"
            ]
          },
          "execution_count": 26,
          "metadata": {},
          "output_type": "execute_result"
        }
      ],
      "source": [
        "rf_random.fit(x_train, y_train)"
      ]
    },
    {
      "cell_type": "code",
      "execution_count": 27,
      "id": "40787ad7",
      "metadata": {
        "colab": {
          "base_uri": "https://localhost:8080/"
        },
        "id": "40787ad7",
        "outputId": "eec2fc4c-5e8d-4959-a0df-121cb83daf6d"
      },
      "outputs": [
        {
          "data": {
            "text/plain": [
              "0.5652321810933415"
            ]
          },
          "execution_count": 27,
          "metadata": {},
          "output_type": "execute_result"
        }
      ],
      "source": [
        "rf_random.best_params_\n",
        "rf_random.score(x_test, y_test)"
      ]
    },
    {
      "cell_type": "code",
      "execution_count": 28,
      "id": "49506f00",
      "metadata": {
        "id": "49506f00"
      },
      "outputs": [],
      "source": [
        "# Predictions\n",
        "predictions = rf_random.predict(x_test)"
      ]
    },
    {
      "cell_type": "code",
      "execution_count": 29,
      "id": "704421c9",
      "metadata": {
        "colab": {
          "base_uri": "https://localhost:8080/"
        },
        "id": "704421c9",
        "outputId": "6d342251-9d48-43fc-dd6c-ab64cd8dbfc3"
      },
      "outputs": [
        {
          "name": "stdout",
          "output_type": "stream",
          "text": [
            "MAE: 18.81997904764136\n"
          ]
        }
      ],
      "source": [
        "from sklearn import metrics\n",
        "print('MAE:', metrics.mean_absolute_error(y_test, predictions))"
      ]
    },
    {
      "cell_type": "markdown",
      "id": "eba4bca4",
      "metadata": {
        "id": "eba4bca4"
      },
      "source": [
        "### This is the maximum model accuracy I am able to achieve with difference of 13k"
      ]
    },
    {
      "cell_type": "code",
      "execution_count": 30,
      "id": "6d3ec707",
      "metadata": {
        "id": "6d3ec707"
      },
      "outputs": [],
      "source": [
        "import pickle\n",
        "\n",
        "# Save the trained model to a file\n",
        "with open('Salary_predictions.pkl', 'wb') as file:\n",
        "    pickle.dump(rf_random, file)"
      ]
    },
    {
      "cell_type": "code",
      "execution_count": 31,
      "id": "9KEjD5B6dKfL",
      "metadata": {
        "colab": {
          "base_uri": "https://localhost:8080/"
        },
        "id": "9KEjD5B6dKfL",
        "outputId": "95b1f14e-1739-4a7c-b04e-9a1a66642957"
      },
      "outputs": [
        {
          "name": "stdout",
          "output_type": "stream",
          "text": [
            "Requirement already satisfied: streamlit in c:\\users\\sai\\appdata\\local\\programs\\python\\python313\\lib\\site-packages (1.44.1)\n",
            "Requirement already satisfied: altair<6,>=4.0 in c:\\users\\sai\\appdata\\local\\programs\\python\\python313\\lib\\site-packages (from streamlit) (5.5.0)\n",
            "Requirement already satisfied: blinker<2,>=1.0.0 in c:\\users\\sai\\appdata\\local\\programs\\python\\python313\\lib\\site-packages (from streamlit) (1.9.0)\n",
            "Requirement already satisfied: cachetools<6,>=4.0 in c:\\users\\sai\\appdata\\local\\programs\\python\\python313\\lib\\site-packages (from streamlit) (5.5.2)\n",
            "Requirement already satisfied: click<9,>=7.0 in c:\\users\\sai\\appdata\\local\\programs\\python\\python313\\lib\\site-packages (from streamlit) (8.1.8)\n",
            "Requirement already satisfied: numpy<3,>=1.23 in c:\\users\\sai\\appdata\\local\\programs\\python\\python313\\lib\\site-packages (from streamlit) (2.1.1)\n",
            "Requirement already satisfied: packaging<25,>=20 in c:\\users\\sai\\appdata\\roaming\\python\\python313\\site-packages (from streamlit) (24.2)\n",
            "Requirement already satisfied: pandas<3,>=1.4.0 in c:\\users\\sai\\appdata\\local\\programs\\python\\python313\\lib\\site-packages (from streamlit) (2.2.3)\n",
            "Requirement already satisfied: pillow<12,>=7.1.0 in c:\\users\\sai\\appdata\\local\\programs\\python\\python313\\lib\\site-packages (from streamlit) (11.1.0)\n",
            "Requirement already satisfied: protobuf<6,>=3.20 in c:\\users\\sai\\appdata\\local\\programs\\python\\python313\\lib\\site-packages (from streamlit) (5.29.4)\n",
            "Requirement already satisfied: pyarrow>=7.0 in c:\\users\\sai\\appdata\\local\\programs\\python\\python313\\lib\\site-packages (from streamlit) (19.0.1)\n",
            "Requirement already satisfied: requests<3,>=2.27 in c:\\users\\sai\\appdata\\local\\programs\\python\\python313\\lib\\site-packages (from streamlit) (2.32.3)\n",
            "Requirement already satisfied: tenacity<10,>=8.1.0 in c:\\users\\sai\\appdata\\local\\programs\\python\\python313\\lib\\site-packages (from streamlit) (9.1.2)\n",
            "Requirement already satisfied: toml<2,>=0.10.1 in c:\\users\\sai\\appdata\\local\\programs\\python\\python313\\lib\\site-packages (from streamlit) (0.10.2)\n",
            "Requirement already satisfied: typing-extensions<5,>=4.4.0 in c:\\users\\sai\\appdata\\local\\programs\\python\\python313\\lib\\site-packages (from streamlit) (4.13.2)\n",
            "Requirement already satisfied: watchdog<7,>=2.1.5 in c:\\users\\sai\\appdata\\local\\programs\\python\\python313\\lib\\site-packages (from streamlit) (6.0.0)\n",
            "Requirement already satisfied: gitpython!=3.1.19,<4,>=3.0.7 in c:\\users\\sai\\appdata\\local\\programs\\python\\python313\\lib\\site-packages (from streamlit) (3.1.44)\n",
            "Requirement already satisfied: pydeck<1,>=0.8.0b4 in c:\\users\\sai\\appdata\\local\\programs\\python\\python313\\lib\\site-packages (from streamlit) (0.9.1)\n",
            "Requirement already satisfied: tornado<7,>=6.0.3 in c:\\users\\sai\\appdata\\roaming\\python\\python313\\site-packages (from streamlit) (6.4.2)\n",
            "Requirement already satisfied: jinja2 in c:\\users\\sai\\appdata\\local\\programs\\python\\python313\\lib\\site-packages (from altair<6,>=4.0->streamlit) (3.1.6)\n",
            "Requirement already satisfied: jsonschema>=3.0 in c:\\users\\sai\\appdata\\local\\programs\\python\\python313\\lib\\site-packages (from altair<6,>=4.0->streamlit) (4.23.0)\n",
            "Requirement already satisfied: narwhals>=1.14.2 in c:\\users\\sai\\appdata\\local\\programs\\python\\python313\\lib\\site-packages (from altair<6,>=4.0->streamlit) (1.35.0)\n",
            "Requirement already satisfied: colorama in c:\\users\\sai\\appdata\\roaming\\python\\python313\\site-packages (from click<9,>=7.0->streamlit) (0.4.6)\n",
            "Requirement already satisfied: gitdb<5,>=4.0.1 in c:\\users\\sai\\appdata\\local\\programs\\python\\python313\\lib\\site-packages (from gitpython!=3.1.19,<4,>=3.0.7->streamlit) (4.0.12)\n",
            "Requirement already satisfied: python-dateutil>=2.8.2 in c:\\users\\sai\\appdata\\roaming\\python\\python313\\site-packages (from pandas<3,>=1.4.0->streamlit) (2.9.0.post0)\n",
            "Requirement already satisfied: pytz>=2020.1 in c:\\users\\sai\\appdata\\local\\programs\\python\\python313\\lib\\site-packages (from pandas<3,>=1.4.0->streamlit) (2025.2)\n",
            "Requirement already satisfied: tzdata>=2022.7 in c:\\users\\sai\\appdata\\local\\programs\\python\\python313\\lib\\site-packages (from pandas<3,>=1.4.0->streamlit) (2025.2)\n",
            "Requirement already satisfied: charset-normalizer<4,>=2 in c:\\users\\sai\\appdata\\local\\programs\\python\\python313\\lib\\site-packages (from requests<3,>=2.27->streamlit) (3.4.1)\n",
            "Requirement already satisfied: idna<4,>=2.5 in c:\\users\\sai\\appdata\\local\\programs\\python\\python313\\lib\\site-packages (from requests<3,>=2.27->streamlit) (3.10)\n",
            "Requirement already satisfied: urllib3<3,>=1.21.1 in c:\\users\\sai\\appdata\\local\\programs\\python\\python313\\lib\\site-packages (from requests<3,>=2.27->streamlit) (2.3.0)\n",
            "Requirement already satisfied: certifi>=2017.4.17 in c:\\users\\sai\\appdata\\local\\programs\\python\\python313\\lib\\site-packages (from requests<3,>=2.27->streamlit) (2025.1.31)\n",
            "Requirement already satisfied: smmap<6,>=3.0.1 in c:\\users\\sai\\appdata\\local\\programs\\python\\python313\\lib\\site-packages (from gitdb<5,>=4.0.1->gitpython!=3.1.19,<4,>=3.0.7->streamlit) (5.0.2)\n",
            "Requirement already satisfied: MarkupSafe>=2.0 in c:\\users\\sai\\appdata\\local\\programs\\python\\python313\\lib\\site-packages (from jinja2->altair<6,>=4.0->streamlit) (3.0.2)\n",
            "Requirement already satisfied: attrs>=22.2.0 in c:\\users\\sai\\appdata\\local\\programs\\python\\python313\\lib\\site-packages (from jsonschema>=3.0->altair<6,>=4.0->streamlit) (25.3.0)\n",
            "Requirement already satisfied: jsonschema-specifications>=2023.03.6 in c:\\users\\sai\\appdata\\local\\programs\\python\\python313\\lib\\site-packages (from jsonschema>=3.0->altair<6,>=4.0->streamlit) (2024.10.1)\n",
            "Requirement already satisfied: referencing>=0.28.4 in c:\\users\\sai\\appdata\\local\\programs\\python\\python313\\lib\\site-packages (from jsonschema>=3.0->altair<6,>=4.0->streamlit) (0.36.2)\n",
            "Requirement already satisfied: rpds-py>=0.7.1 in c:\\users\\sai\\appdata\\local\\programs\\python\\python313\\lib\\site-packages (from jsonschema>=3.0->altair<6,>=4.0->streamlit) (0.24.0)\n",
            "Requirement already satisfied: six>=1.5 in c:\\users\\sai\\appdata\\roaming\\python\\python313\\site-packages (from python-dateutil>=2.8.2->pandas<3,>=1.4.0->streamlit) (1.17.0)\n",
            "Note: you may need to restart the kernel to use updated packages.\n"
          ]
        },
        {
          "name": "stderr",
          "output_type": "stream",
          "text": [
            "\n",
            "[notice] A new release of pip is available: 25.0.1 -> 25.1.1\n",
            "[notice] To update, run: python.exe -m pip install --upgrade pip\n"
          ]
        }
      ],
      "source": [
        "pip install streamlit"
      ]
    },
    {
      "cell_type": "code",
      "execution_count": 32,
      "id": "FJOaxMcgfBvL",
      "metadata": {
        "colab": {
          "base_uri": "https://localhost:8080/"
        },
        "id": "FJOaxMcgfBvL",
        "outputId": "59e50020-e272-4881-b0c6-0afefdab4200"
      },
      "outputs": [
        {
          "name": "stdout",
          "output_type": "stream",
          "text": [
            "Requirement already satisfied: streamlit in c:\\users\\sai\\appdata\\local\\programs\\python\\python313\\lib\\site-packages (1.44.1)\n",
            "Requirement already satisfied: pyngrok in c:\\users\\sai\\appdata\\local\\programs\\python\\python313\\lib\\site-packages (7.2.7)\n",
            "Requirement already satisfied: altair<6,>=4.0 in c:\\users\\sai\\appdata\\local\\programs\\python\\python313\\lib\\site-packages (from streamlit) (5.5.0)\n",
            "Requirement already satisfied: blinker<2,>=1.0.0 in c:\\users\\sai\\appdata\\local\\programs\\python\\python313\\lib\\site-packages (from streamlit) (1.9.0)\n",
            "Requirement already satisfied: cachetools<6,>=4.0 in c:\\users\\sai\\appdata\\local\\programs\\python\\python313\\lib\\site-packages (from streamlit) (5.5.2)\n",
            "Requirement already satisfied: click<9,>=7.0 in c:\\users\\sai\\appdata\\local\\programs\\python\\python313\\lib\\site-packages (from streamlit) (8.1.8)\n",
            "Requirement already satisfied: numpy<3,>=1.23 in c:\\users\\sai\\appdata\\local\\programs\\python\\python313\\lib\\site-packages (from streamlit) (2.1.1)\n",
            "Requirement already satisfied: packaging<25,>=20 in c:\\users\\sai\\appdata\\roaming\\python\\python313\\site-packages (from streamlit) (24.2)\n",
            "Requirement already satisfied: pandas<3,>=1.4.0 in c:\\users\\sai\\appdata\\local\\programs\\python\\python313\\lib\\site-packages (from streamlit) (2.2.3)\n",
            "Requirement already satisfied: pillow<12,>=7.1.0 in c:\\users\\sai\\appdata\\local\\programs\\python\\python313\\lib\\site-packages (from streamlit) (11.1.0)\n",
            "Requirement already satisfied: protobuf<6,>=3.20 in c:\\users\\sai\\appdata\\local\\programs\\python\\python313\\lib\\site-packages (from streamlit) (5.29.4)\n",
            "Requirement already satisfied: pyarrow>=7.0 in c:\\users\\sai\\appdata\\local\\programs\\python\\python313\\lib\\site-packages (from streamlit) (19.0.1)\n",
            "Requirement already satisfied: requests<3,>=2.27 in c:\\users\\sai\\appdata\\local\\programs\\python\\python313\\lib\\site-packages (from streamlit) (2.32.3)\n",
            "Requirement already satisfied: tenacity<10,>=8.1.0 in c:\\users\\sai\\appdata\\local\\programs\\python\\python313\\lib\\site-packages (from streamlit) (9.1.2)\n",
            "Requirement already satisfied: toml<2,>=0.10.1 in c:\\users\\sai\\appdata\\local\\programs\\python\\python313\\lib\\site-packages (from streamlit) (0.10.2)\n",
            "Requirement already satisfied: typing-extensions<5,>=4.4.0 in c:\\users\\sai\\appdata\\local\\programs\\python\\python313\\lib\\site-packages (from streamlit) (4.13.2)\n",
            "Requirement already satisfied: watchdog<7,>=2.1.5 in c:\\users\\sai\\appdata\\local\\programs\\python\\python313\\lib\\site-packages (from streamlit) (6.0.0)\n",
            "Requirement already satisfied: gitpython!=3.1.19,<4,>=3.0.7 in c:\\users\\sai\\appdata\\local\\programs\\python\\python313\\lib\\site-packages (from streamlit) (3.1.44)\n",
            "Requirement already satisfied: pydeck<1,>=0.8.0b4 in c:\\users\\sai\\appdata\\local\\programs\\python\\python313\\lib\\site-packages (from streamlit) (0.9.1)\n",
            "Requirement already satisfied: tornado<7,>=6.0.3 in c:\\users\\sai\\appdata\\roaming\\python\\python313\\site-packages (from streamlit) (6.4.2)\n",
            "Requirement already satisfied: PyYAML>=5.1 in c:\\users\\sai\\appdata\\local\\programs\\python\\python313\\lib\\site-packages (from pyngrok) (6.0.2)\n",
            "Requirement already satisfied: jinja2 in c:\\users\\sai\\appdata\\local\\programs\\python\\python313\\lib\\site-packages (from altair<6,>=4.0->streamlit) (3.1.6)\n",
            "Requirement already satisfied: jsonschema>=3.0 in c:\\users\\sai\\appdata\\local\\programs\\python\\python313\\lib\\site-packages (from altair<6,>=4.0->streamlit) (4.23.0)\n",
            "Requirement already satisfied: narwhals>=1.14.2 in c:\\users\\sai\\appdata\\local\\programs\\python\\python313\\lib\\site-packages (from altair<6,>=4.0->streamlit) (1.35.0)\n",
            "Requirement already satisfied: colorama in c:\\users\\sai\\appdata\\roaming\\python\\python313\\site-packages (from click<9,>=7.0->streamlit) (0.4.6)\n",
            "Requirement already satisfied: gitdb<5,>=4.0.1 in c:\\users\\sai\\appdata\\local\\programs\\python\\python313\\lib\\site-packages (from gitpython!=3.1.19,<4,>=3.0.7->streamlit) (4.0.12)\n",
            "Requirement already satisfied: python-dateutil>=2.8.2 in c:\\users\\sai\\appdata\\roaming\\python\\python313\\site-packages (from pandas<3,>=1.4.0->streamlit) (2.9.0.post0)\n",
            "Requirement already satisfied: pytz>=2020.1 in c:\\users\\sai\\appdata\\local\\programs\\python\\python313\\lib\\site-packages (from pandas<3,>=1.4.0->streamlit) (2025.2)\n",
            "Requirement already satisfied: tzdata>=2022.7 in c:\\users\\sai\\appdata\\local\\programs\\python\\python313\\lib\\site-packages (from pandas<3,>=1.4.0->streamlit) (2025.2)\n",
            "Requirement already satisfied: charset-normalizer<4,>=2 in c:\\users\\sai\\appdata\\local\\programs\\python\\python313\\lib\\site-packages (from requests<3,>=2.27->streamlit) (3.4.1)\n",
            "Requirement already satisfied: idna<4,>=2.5 in c:\\users\\sai\\appdata\\local\\programs\\python\\python313\\lib\\site-packages (from requests<3,>=2.27->streamlit) (3.10)\n",
            "Requirement already satisfied: urllib3<3,>=1.21.1 in c:\\users\\sai\\appdata\\local\\programs\\python\\python313\\lib\\site-packages (from requests<3,>=2.27->streamlit) (2.3.0)\n",
            "Requirement already satisfied: certifi>=2017.4.17 in c:\\users\\sai\\appdata\\local\\programs\\python\\python313\\lib\\site-packages (from requests<3,>=2.27->streamlit) (2025.1.31)\n",
            "Requirement already satisfied: smmap<6,>=3.0.1 in c:\\users\\sai\\appdata\\local\\programs\\python\\python313\\lib\\site-packages (from gitdb<5,>=4.0.1->gitpython!=3.1.19,<4,>=3.0.7->streamlit) (5.0.2)\n",
            "Requirement already satisfied: MarkupSafe>=2.0 in c:\\users\\sai\\appdata\\local\\programs\\python\\python313\\lib\\site-packages (from jinja2->altair<6,>=4.0->streamlit) (3.0.2)\n",
            "Requirement already satisfied: attrs>=22.2.0 in c:\\users\\sai\\appdata\\local\\programs\\python\\python313\\lib\\site-packages (from jsonschema>=3.0->altair<6,>=4.0->streamlit) (25.3.0)\n",
            "Requirement already satisfied: jsonschema-specifications>=2023.03.6 in c:\\users\\sai\\appdata\\local\\programs\\python\\python313\\lib\\site-packages (from jsonschema>=3.0->altair<6,>=4.0->streamlit) (2024.10.1)\n",
            "Requirement already satisfied: referencing>=0.28.4 in c:\\users\\sai\\appdata\\local\\programs\\python\\python313\\lib\\site-packages (from jsonschema>=3.0->altair<6,>=4.0->streamlit) (0.36.2)\n",
            "Requirement already satisfied: rpds-py>=0.7.1 in c:\\users\\sai\\appdata\\local\\programs\\python\\python313\\lib\\site-packages (from jsonschema>=3.0->altair<6,>=4.0->streamlit) (0.24.0)\n",
            "Requirement already satisfied: six>=1.5 in c:\\users\\sai\\appdata\\roaming\\python\\python313\\site-packages (from python-dateutil>=2.8.2->pandas<3,>=1.4.0->streamlit) (1.17.0)\n",
            "Note: you may need to restart the kernel to use updated packages.\n"
          ]
        },
        {
          "name": "stderr",
          "output_type": "stream",
          "text": [
            "\n",
            "[notice] A new release of pip is available: 25.0.1 -> 25.1.1\n",
            "[notice] To update, run: python.exe -m pip install --upgrade pip\n"
          ]
        }
      ],
      "source": [
        "pip install streamlit pyngrok"
      ]
    },
    {
      "cell_type": "code",
      "execution_count": 33,
      "id": "xKG5KfEDfcgR",
      "metadata": {
        "id": "xKG5KfEDfcgR"
      },
      "outputs": [],
      "source": [
        "from pyngrok import ngrok\n",
        "ngrok.kill()  # Close existing tunnels"
      ]
    },
    {
      "cell_type": "code",
      "execution_count": 1,
      "id": "d0a85b88",
      "metadata": {},
      "outputs": [
        {
          "name": "stdout",
          "output_type": "stream",
          "text": [
            "Requirement already satisfied: scikit-learn in c:\\users\\sai\\appdata\\local\\programs\\python\\python313\\lib\\site-packages (1.6.1)\n",
            "Requirement already satisfied: numpy>=1.19.5 in c:\\users\\sai\\appdata\\local\\programs\\python\\python313\\lib\\site-packages (from scikit-learn) (2.1.1)\n",
            "Requirement already satisfied: scipy>=1.6.0 in c:\\users\\sai\\appdata\\local\\programs\\python\\python313\\lib\\site-packages (from scikit-learn) (1.15.2)\n",
            "Requirement already satisfied: joblib>=1.2.0 in c:\\users\\sai\\appdata\\local\\programs\\python\\python313\\lib\\site-packages (from scikit-learn) (1.4.2)\n",
            "Requirement already satisfied: threadpoolctl>=3.1.0 in c:\\users\\sai\\appdata\\local\\programs\\python\\python313\\lib\\site-packages (from scikit-learn) (3.6.0)\n",
            "Note: you may need to restart the kernel to use updated packages.\n"
          ]
        }
      ],
      "source": [
        "pip install scikit-learn"
      ]
    },
    {
      "cell_type": "code",
      "execution_count": 2,
      "id": "88e78fee",
      "metadata": {},
      "outputs": [
        {
          "name": "stdout",
          "output_type": "stream",
          "text": [
            "1.6.1\n"
          ]
        }
      ],
      "source": [
        "import sklearn\n",
        "print(sklearn.__version__)"
      ]
    }
  ],
  "metadata": {
    "colab": {
      "provenance": []
    },
    "kernelspec": {
      "display_name": "Python 3",
      "language": "python",
      "name": "python3"
    },
    "language_info": {
      "codemirror_mode": {
        "name": "ipython",
        "version": 3
      },
      "file_extension": ".py",
      "mimetype": "text/x-python",
      "name": "python",
      "nbconvert_exporter": "python",
      "pygments_lexer": "ipython3",
      "version": "3.13.2"
    }
  },
  "nbformat": 4,
  "nbformat_minor": 5
}
